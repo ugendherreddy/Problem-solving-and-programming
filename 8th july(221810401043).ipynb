{
 "cells": [
  {
   "cell_type": "code",
   "execution_count": 2,
   "metadata": {},
   "outputs": [
    {
     "data": {
      "text/plain": [
       "False"
      ]
     },
     "execution_count": 2,
     "metadata": {},
     "output_type": "execute_result"
    }
   ],
   "source": [
    "#given nu. is prime or not\n",
    "def isprime(n):\n",
    "    flag = True\n",
    "    for i in range(2,n//2+1):\n",
    "        if n%i==0:\n",
    "            flag = False\n",
    "            return flag\n",
    "    return flag\n",
    "isprime(12)\n",
    "    "
   ]
  },
  {
   "cell_type": "code",
   "execution_count": 7,
   "metadata": {},
   "outputs": [
    {
     "data": {
      "text/plain": [
       "4"
      ]
     },
     "execution_count": 7,
     "metadata": {},
     "output_type": "execute_result"
    }
   ],
   "source": [
    "#prime numbers between the range 1 to n\n",
    "def prime(n):\n",
    "    cnt=0\n",
    "    for a in range (2,n+1):\n",
    "        k=0\n",
    "        for i in range(2,a//2+1):\n",
    "            if a%i==0:\n",
    "                k=k+1\n",
    "        if (k<=0):\n",
    "            cnt=cnt+1\n",
    "    return cnt\n",
    "prime(10)\n",
    "        \n",
    "            \n",
    "        \n",
    "    \n",
    "    "
   ]
  },
  {
   "cell_type": "code",
   "execution_count": 16,
   "metadata": {},
   "outputs": [
    {
     "data": {
      "text/plain": [
       "'yes'"
      ]
     },
     "execution_count": 16,
     "metadata": {},
     "output_type": "execute_result"
    }
   ],
   "source": [
    "# if sum of individual number factorial is same as original number print yes orelse no\n",
    "def fact(n):\n",
    "    fact=1\n",
    "    for i in range (1,n+1):        \n",
    "        fact=fact*i\n",
    "    return fact\n",
    "def factsum(n):\n",
    "    sum=0\n",
    "    a=n\n",
    "    while n!=0:\n",
    "        r=n%10\n",
    "        sum=sum+fact(r)\n",
    "        n=n//10\n",
    "    if(sum==a):\n",
    "        return \"yes\"        \n",
    "    else:\n",
    "        return \"no\"\n",
    "    return\n",
    "factsum(145)"
   ]
  },
  {
   "cell_type": "code",
   "execution_count": 23,
   "metadata": {},
   "outputs": [
    {
     "data": {
      "text/plain": [
       "9"
      ]
     },
     "execution_count": 23,
     "metadata": {},
     "output_type": "execute_result"
    }
   ],
   "source": [
    "#function to return the count of palindrome between two limits\n",
    "def pali(n):\n",
    "    a=n\n",
    "    sum=0\n",
    "    while n!=0:\n",
    "        r=n%10\n",
    "        sum=sum*10+r\n",
    "        n=n//10\n",
    "    if(a==sum):\n",
    "        return True\n",
    "    else:\n",
    "        return False\n",
    "    return\n",
    "def cntpali(lb,ub):\n",
    "    cnt=0\n",
    "    while(lb!=ub):\n",
    "        if(pali(lb)==True):\n",
    "            cnt=cnt+1\n",
    "        lb=lb+1\n",
    "    return cnt\n",
    "cntpali(1,10)\n",
    "        \n",
    "    \n",
    "    \n",
    "    "
   ]
  },
  {
   "cell_type": "code",
   "execution_count": 7,
   "metadata": {},
   "outputs": [
    {
     "name": "stdout",
     "output_type": "stream",
     "text": [
      "6 28 "
     ]
    }
   ],
   "source": [
    "#function to generate a perfect numbers between given range\n",
    "def perfect(n):\n",
    "    a=n\n",
    "    sum=0\n",
    "    for i in range (1,n):\n",
    "        if n%i==0:\n",
    "            sum=sum+i\n",
    "        i=i+1\n",
    "    if sum==n:            \n",
    "        return True\n",
    "    else:\n",
    "        return False\n",
    "    return\n",
    "def cntperfect(lb,ub):\n",
    "        for x in range(lb,ub+1):            \n",
    "            if perfect(lb)==True:\n",
    "                 print(x,end=\" \")\n",
    "            lb=lb+1\n",
    "        return\n",
    "cntperfect(1,100)\n",
    "        \n",
    "    \n",
    "\n",
    "    "
   ]
  },
  {
   "cell_type": "code",
   "execution_count": 21,
   "metadata": {},
   "outputs": [
    {
     "name": "stdout",
     "output_type": "stream",
     "text": [
      "1 5 9 13\n"
     ]
    }
   ],
   "source": [
    "a,b,c,d=range(1,14,4)\n",
    "print(a,b,c,d)"
   ]
  },
  {
   "cell_type": "code",
   "execution_count": 12,
   "metadata": {
    "scrolled": false
   },
   "outputs": [
    {
     "name": "stdout",
     "output_type": "stream",
     "text": [
      "p\n",
      "n\n",
      "6\n",
      "o\n"
     ]
    }
   ],
   "source": [
    "s1=\"python\"\n",
    "print(s1[0]) #access the first character\n",
    "print(s1[5]) #access the last  character\n",
    "print(len(s1)) #length of the s1\n",
    "print(s1[len(s1)-2]) #access of the last second character using length of s1 "
   ]
  },
  {
   "cell_type": "code",
   "execution_count": 18,
   "metadata": {},
   "outputs": [
    {
     "name": "stdout",
     "output_type": "stream",
     "text": [
      "n\n",
      "t\n",
      "py\n",
      "pyt\n",
      "hon\n",
      "thon\n"
     ]
    }
   ],
   "source": [
    "print(s1[-1]) #last character index is -1\n",
    "print(s1[-4]) #access of 3rd character\n",
    "print(s1[0:2]) #access of first two characters\n",
    "print(s1[:3]) #by default the first one is zero and access the characters upto 3 in a forward way\n",
    "print(s1[-3:]) # starting from last third character to ending\n",
    "print(s1[2:]) #starting from second character till last ending character"
   ]
  },
  {
   "cell_type": "code",
   "execution_count": 29,
   "metadata": {
    "scrolled": true
   },
   "outputs": [
    {
     "name": "stdout",
     "output_type": "stream",
     "text": [
      "ytho\n",
      "h\n",
      "nohtyp\n",
      "no\n",
      "pto\n",
      "nhy\n"
     ]
    }
   ],
   "source": [
    "#printing of all characters except first and last\n",
    "print(s1[1:-1])\n",
    "print(s1[len(s1)//2]) #printing the middle character of length of s1\n",
    "print(s1[-1::-1])#reverse of a string\n",
    "print(s1[-1:-3:-1]) #access of  last two characters in reverse order\n",
    "print(s1[::2]) #alternate characters jump of 2\n",
    "print(s1[::-2]) #alternate characters with jump of 3\n"
   ]
  },
  {
   "cell_type": "code",
   "execution_count": 30,
   "metadata": {},
   "outputs": [
    {
     "data": {
      "text/plain": [
       "'inirah'"
      ]
     },
     "execution_count": 30,
     "metadata": {},
     "output_type": "execute_result"
    }
   ],
   "source": [
    "def revstring(s1):\n",
    "    return (s1[-1::-1])\n",
    "revstring(\"harini\")"
   ]
  },
  {
   "cell_type": "code",
   "execution_count": 33,
   "metadata": {},
   "outputs": [
    {
     "name": "stdout",
     "output_type": "stream",
     "text": [
      "True\n",
      "False\n"
     ]
    }
   ],
   "source": [
    "def pali(s1):\n",
    "    if s1==s1[::-1]:\n",
    "        return True\n",
    "    else:\n",
    "        return False\n",
    "    return\n",
    "print(pali(\"mom\"))\n",
    "print(pali(\"gitam\"))\n"
   ]
  },
  {
   "cell_type": "code",
   "execution_count": 41,
   "metadata": {},
   "outputs": [
    {
     "name": "stdout",
     "output_type": "stream",
     "text": [
      "65\n",
      "32\n",
      "122\n"
     ]
    }
   ],
   "source": [
    "#function to rint the uppercase letters\n",
    "        #ASCII Values\n",
    "#a-z  : 97-122\n",
    "#A-Z  : 65-90\n",
    "#0-9  : 48-57\n",
    "#space:  32\n",
    "print(ord('A'))\n",
    "print(ord(' '))\n",
    "print(ord('z'))\n",
    "    "
   ]
  },
  {
   "cell_type": "code",
   "execution_count": 38,
   "metadata": {},
   "outputs": [
    {
     "name": "stdout",
     "output_type": "stream",
     "text": [
      "H\n",
      "I\n"
     ]
    }
   ],
   "source": [
    "#to print upper case letters in a word\n",
    "def uppercase(str):\n",
    "    for i in range (len(str)):\n",
    "        if ord(str[i])>=65 and ord(str[i])<=90:\n",
    "            print(str[i])\n",
    "    return\n",
    "uppercase('HarIni')\n",
    "\n"
   ]
  },
  {
   "cell_type": "code",
   "execution_count": 45,
   "metadata": {},
   "outputs": [
    {
     "name": "stdout",
     "output_type": "stream",
     "text": [
      "same count\n",
      "not same count\n"
     ]
    }
   ],
   "source": [
    "#function to print \"same count\" if the count of upeer and lower case are same\n",
    "#print\"no same count\" if the uppercase and lower case counts are not equal\n",
    "def count(n):\n",
    "    cnt1=0\n",
    "    cnt2=0\n",
    "    for i in range (len(n)):\n",
    "        if ord(n[i])>=65 and ord(n[i])<=90:\n",
    "            cnt1=cnt1+1\n",
    "        if ord(n[i])>=97 and ord(n[i])<=122:\n",
    "            cnt2=cnt2+1\n",
    "    if cnt1==cnt2:\n",
    "        return \"same count\"\n",
    "    else:\n",
    "        return \"not same count\"\n",
    "    return\n",
    "print(count(\"HaRiNi\"))\n",
    "print(count(\"pythON\"))\n",
    "        \n",
    "        \n",
    "\n"
   ]
  },
  {
   "cell_type": "code",
   "execution_count": 46,
   "metadata": {},
   "outputs": [
    {
     "name": "stdout",
     "output_type": "stream",
     "text": [
      "7 1 0 2 "
     ]
    }
   ],
   "source": [
    "#extract digits from the string\n",
    "def digext(x):\n",
    "    for i in range (len(x)):\n",
    "        if ord(x[i])>=48 and ord(x[i])<=57:\n",
    "            print(x[i],end=' ')\n",
    "    return\n",
    "digext('py7t1h0yon2')\n",
    "        \n"
   ]
  },
  {
   "cell_type": "code",
   "execution_count": 52,
   "metadata": {},
   "outputs": [
    {
     "name": "stdout",
     "output_type": "stream",
     "text": [
      "10\n",
      "22\n"
     ]
    }
   ],
   "source": [
    "#sum of digits in the string\n",
    "def sumdig(s):\n",
    "    sum=0\n",
    "    for i in range (len(s)):\n",
    "        if ord(s[i])>=48 and ord(s[i])<=57:\n",
    "            sum=sum+(ord(s[i])-48)\n",
    "    return sum\n",
    "print(sumdig('py7t1h0yon2'))\n",
    "print(sumdig('h4a5a6a7'))"
   ]
  },
  {
   "cell_type": "code",
   "execution_count": null,
   "metadata": {},
   "outputs": [],
   "source": [
    "#function to print "
   ]
  }
 ],
 "metadata": {
  "kernelspec": {
   "display_name": "Python 3",
   "language": "python",
   "name": "python3"
  },
  "language_info": {
   "codemirror_mode": {
    "name": "ipython",
    "version": 3
   },
   "file_extension": ".py",
   "mimetype": "text/x-python",
   "name": "python",
   "nbconvert_exporter": "python",
   "pygments_lexer": "ipython3",
   "version": "3.7.3"
  }
 },
 "nbformat": 4,
 "nbformat_minor": 2
}
