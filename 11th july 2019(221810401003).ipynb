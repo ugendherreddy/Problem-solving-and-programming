{
 "cells": [
  {
   "cell_type": "markdown",
   "metadata": {},
   "source": [
    "## Standard Libraries\n",
    "- File I/O\n",
    "- Regular Expressions\n",
    "- Datetime\n",
    "- Math (numerical and Mathematics)"
   ]
  },
  {
   "cell_type": "markdown",
   "metadata": {},
   "source": [
    "### Write,Read,Analysis -- Data Science and Analysis"
   ]
  },
  {
   "cell_type": "markdown",
   "metadata": {},
   "source": [
    "### File Handling in Python\n",
    "- File:- Document containing information resides on the permanent storage\n",
    "- Different types of files :- txt,doc,pdf,csv etc......\n",
    "- Input -- Keyboard\n",
    "- Output -- File\n",
    "### Modes of the File I/O\n",
    "- 'w' -- This mode is used to file writing\n",
    "      -- If the file is not present first it creates the file and write so me data to it\n",
    "      -- If the file is already present it will rewrite the prevoius content"
   ]
  },
  {
   "cell_type": "code",
   "execution_count": 2,
   "metadata": {},
   "outputs": [
    {
     "name": "stdout",
     "output_type": "stream",
     "text": [
      "File is created and data has written\n"
     ]
    }
   ],
   "source": [
    "#Function to  create a file and write to the file \n",
    "def createfile(filename):\n",
    "    f= open(filename,'w')\n",
    "    for i in range(10):\n",
    "        f.write('This is %d Line\\n' % i)\n",
    "    print(\"File is created and data has written\")\n",
    "    return\n",
    "createfile('file.txt')"
   ]
  },
  {
   "cell_type": "code",
   "execution_count": 3,
   "metadata": {},
   "outputs": [
    {
     "name": "stdout",
     "output_type": "stream",
     "text": [
      " Volume in drive C has no label.\n",
      " Volume Serial Number is 2C11-485A\n",
      "\n",
      " Directory of C:\\Users\\mplab\n",
      "\n",
      "11-07-2019  09:38    <DIR>          .\n",
      "11-07-2019  09:38    <DIR>          ..\n",
      "05-07-2019  16:49             2,976 .bash_history\n",
      "05-07-2019  09:53                22 .gitconfig\n",
      "11-07-2019  09:22    <DIR>          .ipynb_checkpoints\n",
      "21-06-2019  15:31    <DIR>          .ipython\n",
      "22-06-2019  14:52    <DIR>          .jupyter\n",
      "10-07-2019  13:06            15,715 10th july 2019.ipynb\n",
      "11-07-2019  09:38             1,849 11th july 2019.ipynb\n",
      "05-07-2019  15:58            10,656 5th july.ipynb\n",
      "08-07-2019  17:12             8,580 6th july.ipynb\n",
      "08-07-2019  16:20            11,368 8th july.ipynb\n",
      "09-07-2019  16:27            13,657 9th july.ipynb\n",
      "15-06-2019  14:18    <DIR>          Anaconda3\n",
      "10-07-2019  15:29             3,113 assignment questions.ipynb\n",
      "14-06-2019  15:56    <DIR>          Contacts\n",
      "09-07-2019  14:49    <DIR>          Desktop\n",
      "10-07-2019  16:31    <DIR>          Documents\n",
      "11-07-2019  09:16    <DIR>          Downloads\n",
      "14-06-2019  15:56    <DIR>          Favorites\n",
      "11-07-2019  09:38               160 file.txt\n",
      "05-07-2019  09:21    <DIR>          git\n",
      "14-06-2019  15:56    <DIR>          Links\n",
      "14-06-2019  15:56    <DIR>          Music\n",
      "08-07-2019  16:53    <DIR>          Pictures\n",
      "05-07-2019  09:19    <DIR>          pythonprog\n",
      "14-06-2019  15:56    <DIR>          Saved Games\n",
      "14-06-2019  15:56    <DIR>          Searches\n",
      "21-06-2019  15:43             3,345 Untitled.ipynb\n",
      "14-06-2019  15:56    <DIR>          Videos\n",
      "              11 File(s)         71,441 bytes\n",
      "              19 Dir(s)  185,989,545,984 bytes free\n"
     ]
    }
   ],
   "source": [
    "ls"
   ]
  },
  {
   "cell_type": "code",
   "execution_count": 7,
   "metadata": {},
   "outputs": [
    {
     "name": "stdout",
     "output_type": "stream",
     "text": [
      "File is created and data has written\n"
     ]
    }
   ],
   "source": [
    "def createfile(filename):\n",
    "    f= open(filename,'w')\n",
    "    f.write('Testing...\\n')\n",
    "    print(\"File is created and data has written\")\n",
    "    return\n",
    "createfile('file.txt')"
   ]
  },
  {
   "cell_type": "code",
   "execution_count": 9,
   "metadata": {
    "scrolled": true
   },
   "outputs": [
    {
     "name": "stdout",
     "output_type": "stream",
     "text": [
      "file is created and data has written successfully\n"
     ]
    }
   ],
   "source": [
    "def appendData(filename):\n",
    "    f=open(filename,'a')\n",
    "    for i in range(10):\n",
    "        f.write('This is %d line \\n' % i)\n",
    "    print(\"file is created and data has written successfully\")\n",
    "    return\n",
    "appendData('file2.txt')"
   ]
  },
  {
   "cell_type": "code",
   "execution_count": 10,
   "metadata": {},
   "outputs": [
    {
     "name": "stdout",
     "output_type": "stream",
     "text": [
      "file is created and data has written successfully\n"
     ]
    }
   ],
   "source": [
    "def appendData(filename):\n",
    "    f=open(filename,'a')\n",
    "    f.write('New line 1 \\n')\n",
    "    f.write('New line 2 \\n')\n",
    "    f.write('')\n",
    "    print(\"file is created and data has written successfully\")\n",
    "    return\n",
    "appendData('file2.txt')"
   ]
  },
  {
   "cell_type": "code",
   "execution_count": 15,
   "metadata": {},
   "outputs": [
    {
     "name": "stdout",
     "output_type": "stream",
     "text": [
      "This is 0 line \n",
      "This is 1 line \n",
      "This is 2 line \n",
      "This is 3 line \n",
      "This is 4 line \n",
      "This is 5 line \n",
      "This is 6 line \n",
      "This is 7 line \n",
      "This is 8 line \n",
      "This is 9 line \n",
      "New line 1 \n",
      "New line 2 \n",
      "\n"
     ]
    }
   ],
   "source": [
    "# Function to read the file\n",
    "def readfiledata(filename):\n",
    "    f = open(filename,'r')\n",
    "    if f.mode =='r':\n",
    "        x = f.read()\n",
    "        print(x)\n",
    "    f.close()\n",
    "    return\n",
    "readfiledata('file2.txt')\n",
    " "
   ]
  },
  {
   "cell_type": "code",
   "execution_count": 24,
   "metadata": {
    "scrolled": true
   },
   "outputs": [
    {
     "name": "stdout",
     "output_type": "stream",
     "text": [
      "Enter the file namefile2.txt\n",
      "Enter the mode of the filer\n",
      "This is 0 line \n",
      "This is 1 line \n",
      "This is 2 line \n",
      "This is 3 line \n",
      "This is 4 line \n",
      "This is 5 line \n",
      "This is 6 line \n",
      "This is 7 line \n",
      "This is 8 line \n",
      "This is 9 line \n",
      "New line 1 \n",
      "New line 2 \n",
      "\n"
     ]
    }
   ],
   "source": [
    "#Function to read the file\n",
    "def fileoperations(filename,mode):\n",
    "    with open(filename,mode) as f:\n",
    "        if f.mode == 'r':\n",
    "            data = f.read()\n",
    "            print(data)\n",
    "        elif f.mode == 'a':\n",
    "            f.write('Data to the file')\n",
    "            print('The data successfully written')\n",
    "    f.close()\n",
    "    return\n",
    "filename=input('Enter the file name')\n",
    "mode= input('Enter the mode of the file')\n",
    "fileoperations(filename,mode)\n",
    "\n",
    "        "
   ]
  },
  {
   "cell_type": "code",
   "execution_count": 27,
   "metadata": {},
   "outputs": [
    {
     "name": "stdout",
     "output_type": "stream",
     "text": [
      "Enter the filename : file2.txt\n",
      "Enter the wordline\n"
     ]
    },
    {
     "data": {
      "text/plain": [
       "12"
      ]
     },
     "execution_count": 27,
     "metadata": {},
     "output_type": "execute_result"
    }
   ],
   "source": [
    "#Data Analysis\n",
    "#Word count program\n",
    "def wordcount(filename,word):\n",
    "    with open(filename,'r') as f:\n",
    "        if mode == \"r\":\n",
    "            x=f.read()\n",
    "            li=x.split() #its splits the string with whitespace\n",
    "    cnt=li.count(word)\n",
    "    return cnt\n",
    "filename = input('Enter the filename : ')\n",
    "word = input('Enter the word') #which word count you need\n",
    "wordcount(filename,word)"
   ]
  },
  {
   "cell_type": "code",
   "execution_count": 32,
   "metadata": {},
   "outputs": [
    {
     "name": "stdout",
     "output_type": "stream",
     "text": [
      "Enter the filename :file2.txt\n"
     ]
    },
    {
     "data": {
      "text/plain": [
       "183"
      ]
     },
     "execution_count": 32,
     "metadata": {},
     "output_type": "execute_result"
    }
   ],
   "source": [
    "# character count from the given file\n",
    "def charcount(filename):\n",
    "    with open(filename,'r') as f:\n",
    "        if f.mode == 'r':\n",
    "            x=f.read()\n",
    "            li=list(x) #converting the string-char\n",
    "    return len(li)\n",
    "filename = input('Enter the filename :')\n",
    "charcount(filename)\n",
    "        "
   ]
  },
  {
   "cell_type": "code",
   "execution_count": 31,
   "metadata": {},
   "outputs": [
    {
     "name": "stdout",
     "output_type": "stream",
     "text": [
      "Enter the filename :file2.txt\n"
     ]
    },
    {
     "data": {
      "text/plain": [
       "12"
      ]
     },
     "execution_count": 31,
     "metadata": {},
     "output_type": "execute_result"
    }
   ],
   "source": [
    "#Function to find the no of lines in the input file\n",
    "#input -- filename(file2.txt)\n",
    "#output -- No of lines(12)\n",
    "def countline(filename):\n",
    "    with open(filename,\"r\") as f :\n",
    "        if f.mode =='r':\n",
    "            x=f.read()\n",
    "            li=x.split(\"\\n\")\n",
    "    return len(li)\n",
    "filename=input(\"Enter the filename :\")\n",
    "countline(filename)\n",
    "            "
   ]
  },
  {
   "cell_type": "code",
   "execution_count": 38,
   "metadata": {},
   "outputs": [
    {
     "name": "stdout",
     "output_type": "stream",
     "text": [
      "Enter filenamefile2.txt\n"
     ]
    },
    {
     "data": {
      "text/plain": [
       "'Uppercase=12,Lowercase=102'"
      ]
     },
     "execution_count": 38,
     "metadata": {},
     "output_type": "execute_result"
    }
   ],
   "source": [
    "#Function to print the upper and lower characters\n",
    "def casecount(filename):\n",
    "    cntupper=0\n",
    "    cntlower=0\n",
    "    with open(filename,'r') as f:\n",
    "        if f.mode == 'r':\n",
    "            x=f.read()\n",
    "            li=list(x)\n",
    "    for i in li:\n",
    "        if i.isupper():\n",
    "            cntupper=cntupper+1\n",
    "        if i.islower():\n",
    "            cntlower=cntlower+1\n",
    "    output='Uppercase={0},Lowercase={1}'.format(cntupper,cntlower)\n",
    "    return output\n",
    "filename=input(\"Enter filename\")\n",
    "casecount(filename)\n",
    "        "
   ]
  },
  {
   "cell_type": "markdown",
   "metadata": {},
   "source": [
    "### math, random,os\n",
    "- os package it contains the certain kind of methods which works with OS"
   ]
  },
  {
   "cell_type": "code",
   "execution_count": 39,
   "metadata": {},
   "outputs": [
    {
     "name": "stdout",
     "output_type": "stream",
     "text": [
      " Volume in drive C has no label.\n",
      " Volume Serial Number is 2C11-485A\n",
      "\n",
      " Directory of C:\\Users\\mplab\n",
      "\n",
      "11-07-2019  12:32    <DIR>          .\n",
      "11-07-2019  12:32    <DIR>          ..\n",
      "11-07-2019  09:55             2,997 .bash_history\n",
      "05-07-2019  09:53                22 .gitconfig\n",
      "11-07-2019  09:22    <DIR>          .ipynb_checkpoints\n",
      "21-06-2019  15:31    <DIR>          .ipython\n",
      "22-06-2019  14:52    <DIR>          .jupyter\n",
      "10-07-2019  13:06            15,715 10th july 2019.ipynb\n",
      "11-07-2019  12:32            11,778 11th july 2019.ipynb\n",
      "05-07-2019  15:58            10,656 5th july.ipynb\n",
      "08-07-2019  17:12             8,580 6th july.ipynb\n",
      "08-07-2019  16:20            11,368 8th july.ipynb\n",
      "09-07-2019  16:27            13,657 9th july.ipynb\n",
      "15-06-2019  14:18    <DIR>          Anaconda3\n",
      "10-07-2019  15:29             3,113 assignment questions.ipynb\n",
      "14-06-2019  15:56    <DIR>          Contacts\n",
      "11-07-2019  11:18    <DIR>          Desktop\n",
      "11-07-2019  11:18    <DIR>          Documents\n",
      "11-07-2019  09:16    <DIR>          Downloads\n",
      "14-06-2019  15:56    <DIR>          Favorites\n",
      "11-07-2019  09:52                12 file.txt\n",
      "11-07-2019  12:06               183 file2.txt\n",
      "05-07-2019  09:21    <DIR>          git\n",
      "14-06-2019  15:56    <DIR>          Links\n",
      "14-06-2019  15:56    <DIR>          Music\n",
      "08-07-2019  16:53    <DIR>          Pictures\n",
      "05-07-2019  09:19    <DIR>          pythonprog\n",
      "14-06-2019  15:56    <DIR>          Saved Games\n",
      "14-06-2019  15:56    <DIR>          Searches\n",
      "21-06-2019  15:43             3,345 Untitled.ipynb\n",
      "14-06-2019  15:56    <DIR>          Videos\n",
      "              12 File(s)         81,426 bytes\n",
      "              19 Dir(s)  185,983,733,760 bytes free\n"
     ]
    }
   ],
   "source": [
    "ls\n"
   ]
  },
  {
   "cell_type": "code",
   "execution_count": 43,
   "metadata": {},
   "outputs": [
    {
     "name": "stdout",
     "output_type": "stream",
     "text": [
      "C:\\Users\n"
     ]
    }
   ],
   "source": [
    "cd ..\n"
   ]
  },
  {
   "cell_type": "code",
   "execution_count": 44,
   "metadata": {},
   "outputs": [
    {
     "name": "stdout",
     "output_type": "stream",
     "text": [
      "C:\\Users\\mplab\n"
     ]
    }
   ],
   "source": [
    "cd mplab"
   ]
  },
  {
   "cell_type": "code",
   "execution_count": 52,
   "metadata": {},
   "outputs": [
    {
     "name": "stdout",
     "output_type": "stream",
     "text": [
      "[WinError 3] The system cannot find the path specified: 'Desktop/mplab/pythonprog/git'\n",
      "C:\\Users\\mplab\n"
     ]
    }
   ],
   "source": [
    "cd Desktop/mplab/pythonprog/git\n"
   ]
  },
  {
   "cell_type": "markdown",
   "metadata": {},
   "source": [
    "- Older version Python -- os.listdir()\n",
    "- New version Python -- os.scandir() and pathlib.Path()"
   ]
  },
  {
   "cell_type": "code",
   "execution_count": 49,
   "metadata": {},
   "outputs": [],
   "source": [
    "li= os.scandir('git/')\n",
    "for i in li:\n",
    "    print(i)"
   ]
  },
  {
   "cell_type": "code",
   "execution_count": 55,
   "metadata": {},
   "outputs": [
    {
     "name": "stdout",
     "output_type": "stream",
     "text": [
      " Volume in drive C has no label.\n",
      " Volume Serial Number is 2C11-485A\n",
      "\n",
      " Directory of C:\\Users\\mplab\n",
      "\n",
      "11-07-2019  12:56    <DIR>          .\n",
      "11-07-2019  12:56    <DIR>          ..\n",
      "11-07-2019  12:49             3,041 .bash_history\n",
      "05-07-2019  09:53                22 .gitconfig\n",
      "11-07-2019  09:22    <DIR>          .ipynb_checkpoints\n",
      "21-06-2019  15:31    <DIR>          .ipython\n",
      "22-06-2019  14:52    <DIR>          .jupyter\n",
      "10-07-2019  13:06            15,715 10th july 2019.ipynb\n",
      "11-07-2019  12:56            15,375 11th july 2019.ipynb\n",
      "05-07-2019  15:58            10,656 5th july.ipynb\n",
      "08-07-2019  17:12             8,580 6th july.ipynb\n",
      "08-07-2019  16:20            11,368 8th july.ipynb\n",
      "09-07-2019  16:27            13,657 9th july.ipynb\n",
      "15-06-2019  14:18    <DIR>          Anaconda3\n",
      "10-07-2019  15:29             3,113 assignment questions.ipynb\n",
      "14-06-2019  15:56    <DIR>          Contacts\n",
      "11-07-2019  11:18    <DIR>          Desktop\n",
      "11-07-2019  11:18    <DIR>          Documents\n",
      "11-07-2019  09:16    <DIR>          Downloads\n",
      "14-06-2019  15:56    <DIR>          Favorites\n",
      "11-07-2019  09:52                12 file.txt\n",
      "11-07-2019  12:06               183 file2.txt\n",
      "05-07-2019  09:21    <DIR>          git\n",
      "14-06-2019  15:56    <DIR>          Links\n",
      "14-06-2019  15:56    <DIR>          Music\n",
      "08-07-2019  16:53    <DIR>          Pictures\n",
      "05-07-2019  09:19    <DIR>          pythonprog\n",
      "14-06-2019  15:56    <DIR>          Saved Games\n",
      "14-06-2019  15:56    <DIR>          Searches\n",
      "21-06-2019  15:43             3,345 Untitled.ipynb\n",
      "14-06-2019  15:56    <DIR>          Videos\n",
      "              12 File(s)         85,067 bytes\n",
      "              19 Dir(s)  185,977,569,280 bytes free\n"
     ]
    }
   ],
   "source": [
    "ls\n"
   ]
  },
  {
   "cell_type": "code",
   "execution_count": 58,
   "metadata": {},
   "outputs": [
    {
     "data": {
      "text/plain": [
       "'C:\\\\Users\\\\mplab'"
      ]
     },
     "execution_count": 58,
     "metadata": {},
     "output_type": "execute_result"
    }
   ],
   "source": [
    "pwd\n"
   ]
  },
  {
   "cell_type": "code",
   "execution_count": 59,
   "metadata": {},
   "outputs": [
    {
     "name": "stdout",
     "output_type": "stream",
     "text": [
      "C:\\Users\\mplab\\Desktop\n"
     ]
    }
   ],
   "source": [
    "cd Desktop\n"
   ]
  },
  {
   "cell_type": "code",
   "execution_count": 62,
   "metadata": {},
   "outputs": [
    {
     "name": "stdout",
     "output_type": "stream",
     "text": [
      "C:\\Users\\mplab\\Desktop\\Pythonprogramming\n"
     ]
    }
   ],
   "source": [
    "cd Pythonprogramming\n"
   ]
  },
  {
   "cell_type": "code",
   "execution_count": 63,
   "metadata": {},
   "outputs": [
    {
     "name": "stdout",
     "output_type": "stream",
     "text": [
      "C:\\Users\\mplab\\Desktop\\Pythonprogramming\\Git\n"
     ]
    }
   ],
   "source": [
    "cd Git"
   ]
  },
  {
   "cell_type": "code",
   "execution_count": 71,
   "metadata": {},
   "outputs": [
    {
     "name": "stdout",
     "output_type": "stream",
     "text": [
      "C:\\Users\\mplab\\Desktop\\Pythonprogramming\n"
     ]
    }
   ],
   "source": [
    "cd .."
   ]
  },
  {
   "cell_type": "code",
   "execution_count": 72,
   "metadata": {},
   "outputs": [
    {
     "name": "stdout",
     "output_type": "stream",
     "text": [
      "10th july 2019.ipynb\n",
      "5th july.ipynb\n",
      "6th july (1).ipynb\n",
      "8th july (1).ipynb\n",
      "9th july (1).ipynb\n"
     ]
    }
   ],
   "source": [
    "dirpath = 'Git/'\n",
    "with os.scandir(dirpath) as f:\n",
    "    for i in f:\n",
    "        if i.is_file():\n",
    "            print(i.name)"
   ]
  },
  {
   "cell_type": "code",
   "execution_count": 75,
   "metadata": {},
   "outputs": [
    {
     "name": "stdout",
     "output_type": "stream",
     "text": [
      "10th july 2019.ipynb\n",
      "5th july.ipynb\n",
      "6th july (1).ipynb\n",
      "8th july (1).ipynb\n",
      "9th july (1).ipynb\n",
      "single directry\n"
     ]
    }
   ],
   "source": [
    "from pathlib import Path\n",
    "li=Path('git/')\n",
    "for i in li.iterdir():\n",
    "    print(i.name)"
   ]
  },
  {
   "cell_type": "markdown",
   "metadata": {},
   "source": [
    "## Creating a single directry"
   ]
  },
  {
   "cell_type": "code",
   "execution_count": 68,
   "metadata": {},
   "outputs": [],
   "source": [
    "import os\n",
    "os.mkdir('single directry')"
   ]
  },
  {
   "cell_type": "code",
   "execution_count": 74,
   "metadata": {},
   "outputs": [],
   "source": [
    "import pathlib\n",
    "p=pathlib.Path('Test folder')\n",
    "p.mkdir()"
   ]
  },
  {
   "cell_type": "code",
   "execution_count": 70,
   "metadata": {
    "scrolled": true
   },
   "outputs": [
    {
     "name": "stdout",
     "output_type": "stream",
     "text": [
      " Volume in drive C has no label.\n",
      " Volume Serial Number is 2C11-485A\n",
      "\n",
      " Directory of C:\\Users\\mplab\\Desktop\\Pythonprogramming\\Git\n",
      "\n",
      "11-07-2019  14:52    <DIR>          .\n",
      "11-07-2019  14:52    <DIR>          ..\n",
      "11-07-2019  09:16            15,715 10th july 2019.ipynb\n",
      "05-07-2019  15:58            10,656 5th july.ipynb\n",
      "08-07-2019  15:34             8,580 6th july (1).ipynb\n",
      "08-07-2019  15:44            10,604 8th july (1).ipynb\n",
      "09-07-2019  16:45            13,657 9th july (1).ipynb\n",
      "11-07-2019  14:52    <DIR>          single directry\n",
      "               5 File(s)         59,212 bytes\n",
      "               3 Dir(s)  185,972,465,664 bytes free\n"
     ]
    }
   ],
   "source": [
    "ls"
   ]
  },
  {
   "cell_type": "markdown",
   "metadata": {},
   "source": [
    "## Creating Multiple Directories"
   ]
  },
  {
   "cell_type": "code",
   "execution_count": 76,
   "metadata": {},
   "outputs": [],
   "source": [
    "import os\n",
    "os.makedirs('2019/July/11')"
   ]
  },
  {
   "cell_type": "code",
   "execution_count": 77,
   "metadata": {},
   "outputs": [
    {
     "name": "stdout",
     "output_type": "stream",
     "text": [
      " Volume in drive C has no label.\n",
      " Volume Serial Number is 2C11-485A\n",
      "\n",
      " Directory of C:\\Users\\mplab\\Desktop\\Pythonprogramming\n",
      "\n",
      "11-07-2019  15:04    <DIR>          .\n",
      "11-07-2019  15:04    <DIR>          ..\n",
      "11-07-2019  15:04    <DIR>          2019\n",
      "11-07-2019  14:52    <DIR>          Git\n",
      "11-07-2019  15:03    <DIR>          Test folder\n",
      "               0 File(s)              0 bytes\n",
      "               5 Dir(s)  185,976,061,952 bytes free\n"
     ]
    }
   ],
   "source": [
    "ls"
   ]
  },
  {
   "cell_type": "markdown",
   "metadata": {},
   "source": [
    "## Filename Pattern Matching"
   ]
  },
  {
   "cell_type": "code",
   "execution_count": 83,
   "metadata": {},
   "outputs": [
    {
     "name": "stdout",
     "output_type": "stream",
     "text": [
      "C:\\Users\\mplab\\Desktop\\Pythonprogramming\n"
     ]
    }
   ],
   "source": [
    "cd Pythonprogramming"
   ]
  },
  {
   "cell_type": "code",
   "execution_count": 85,
   "metadata": {},
   "outputs": [],
   "source": [
    "import os\n",
    "dirPath='git/'\n",
    "for f_name in os.listdir(dirPath):\n",
    "    if f_name.endswith(' .ipynb'):\n",
    "        print(f_name) ###"
   ]
  },
  {
   "cell_type": "code",
   "execution_count": 87,
   "metadata": {},
   "outputs": [],
   "source": [
    "import os\n",
    "dirPath = 'git/'\n",
    "for f_name in os.listdir(dirPath):\n",
    "    if f_name.startswith('0'):\n",
    "        print(f_name)  ###\n",
    " "
   ]
  },
  {
   "cell_type": "markdown",
   "metadata": {},
   "source": [
    "## Deleting files and directories"
   ]
  },
  {
   "cell_type": "code",
   "execution_count": 88,
   "metadata": {},
   "outputs": [
    {
     "name": "stdout",
     "output_type": "stream",
     "text": [
      " Volume in drive C has no label.\n",
      " Volume Serial Number is 2C11-485A\n",
      "\n",
      " Directory of C:\\Users\\mplab\\Desktop\\Pythonprogramming\n",
      "\n",
      "11-07-2019  15:04    <DIR>          .\n",
      "11-07-2019  15:04    <DIR>          ..\n",
      "11-07-2019  15:04    <DIR>          2019\n",
      "11-07-2019  14:52    <DIR>          Git\n",
      "11-07-2019  15:03    <DIR>          Test folder\n",
      "               0 File(s)              0 bytes\n",
      "               5 Dir(s)  185,973,407,744 bytes free\n"
     ]
    }
   ],
   "source": [
    "ls"
   ]
  },
  {
   "cell_type": "code",
   "execution_count": 90,
   "metadata": {
    "scrolled": true
   },
   "outputs": [
    {
     "ename": "FileNotFoundError",
     "evalue": "[WinError 2] The system cannot find the file specified: 'file2.txt'",
     "output_type": "error",
     "traceback": [
      "\u001b[1;31m---------------------------------------------------------------------------\u001b[0m",
      "\u001b[1;31mFileNotFoundError\u001b[0m                         Traceback (most recent call last)",
      "\u001b[1;32m<ipython-input-90-0fa41bced235>\u001b[0m in \u001b[0;36m<module>\u001b[1;34m\u001b[0m\n\u001b[0;32m      1\u001b[0m \u001b[1;32mimport\u001b[0m \u001b[0mos\u001b[0m\u001b[1;33m\u001b[0m\u001b[1;33m\u001b[0m\u001b[0m\n\u001b[0;32m      2\u001b[0m \u001b[0mdata_file\u001b[0m \u001b[1;33m=\u001b[0m \u001b[1;34m'file2.txt'\u001b[0m \u001b[1;31m#Give the entire path c:\\\\users\\\\mplab\\\\\u001b[0m\u001b[1;33m\u001b[0m\u001b[1;33m\u001b[0m\u001b[0m\n\u001b[1;32m----> 3\u001b[1;33m \u001b[0mos\u001b[0m\u001b[1;33m.\u001b[0m\u001b[0mremove\u001b[0m\u001b[1;33m(\u001b[0m\u001b[0mdata_file\u001b[0m\u001b[1;33m)\u001b[0m\u001b[1;33m\u001b[0m\u001b[1;33m\u001b[0m\u001b[0m\n\u001b[0m",
      "\u001b[1;31mFileNotFoundError\u001b[0m: [WinError 2] The system cannot find the file specified: 'file2.txt'"
     ]
    }
   ],
   "source": [
    "import os\n",
    "data_file = 'file2.txt' #Give the entire path c:\\\\users\\\\mplab\\\\\n",
    "os.remove(data_file)"
   ]
  },
  {
   "cell_type": "code",
   "execution_count": 92,
   "metadata": {
    "scrolled": false
   },
   "outputs": [
    {
     "name": "stdout",
     "output_type": "stream",
     "text": [
      " Volume in drive C has no label.\n",
      " Volume Serial Number is 2C11-485A\n",
      "\n",
      " Directory of C:\\Users\\mplab\\Desktop\\Pythonprogramming\n",
      "\n",
      "11-07-2019  15:04    <DIR>          .\n",
      "11-07-2019  15:04    <DIR>          ..\n",
      "11-07-2019  15:04    <DIR>          2019\n",
      "11-07-2019  14:52    <DIR>          Git\n",
      "11-07-2019  15:03    <DIR>          Test folder\n",
      "               0 File(s)              0 bytes\n",
      "               5 Dir(s)  185,974,312,960 bytes free\n"
     ]
    }
   ],
   "source": [
    "ls"
   ]
  },
  {
   "cell_type": "code",
   "execution_count": 94,
   "metadata": {},
   "outputs": [],
   "source": [
    "data_dir=\"Test folder\"\n",
    "os.rmdir(data_dir) #For deleting the directry ###"
   ]
  },
  {
   "cell_type": "code",
   "execution_count": 98,
   "metadata": {},
   "outputs": [],
   "source": [
    "import shutil\n",
    "data_dir ='2019'\n",
    "shutil.rmtree(data_dir)"
   ]
  },
  {
   "cell_type": "markdown",
   "metadata": {},
   "source": [
    " ## Regular Expressions\n",
    "- Used to specific pattern matching\n",
    "- Symbolic notations of pattern\n",
    "          - Patterns"
   ]
  },
  {
   "cell_type": "code",
   "execution_count": null,
   "metadata": {},
   "outputs": [],
   "source": [
    ".0"
   ]
  }
 ],
 "metadata": {
  "kernelspec": {
   "display_name": "Python 3",
   "language": "python",
   "name": "python3"
  },
  "language_info": {
   "codemirror_mode": {
    "name": "ipython",
    "version": 3
   },
   "file_extension": ".py",
   "mimetype": "text/x-python",
   "name": "python",
   "nbconvert_exporter": "python",
   "pygments_lexer": "ipython3",
   "version": "3.7.3"
  }
 },
 "nbformat": 4,
 "nbformat_minor": 2
}
