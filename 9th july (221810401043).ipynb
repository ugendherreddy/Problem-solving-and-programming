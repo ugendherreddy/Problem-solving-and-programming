{
 "cells": [
  {
   "cell_type": "markdown",
   "metadata": {},
   "source": [
    "## Day objectives\n",
    "### python datastructures\n",
    "####  lists\n",
    "#### Tuples\n",
    "#### Dictioneries\n",
    "#### Basic problem set on data structurres\n",
    "#### Advanced problem set\n",
    "#### Contact application (Dictionary objective)\n",
    "\n"
   ]
  },
  {
   "cell_type": "markdown",
   "metadata": {},
   "source": [
    "## Data structures\n",
    "### To store, search and sort the data"
   ]
  },
  {
   "cell_type": "markdown",
   "metadata": {},
   "source": [
    "## Python data structures\n",
    "### Lists\n",
    "#### It is one of the common data structures supported by python, the list items are separated by comma operator and enclosed in square brackets\n",
    "### Examples\n",
    "#### List1=[\"gitam\",12,10,\"Hyderabad\"]"
   ]
  },
  {
   "cell_type": "code",
   "execution_count": 8,
   "metadata": {},
   "outputs": [
    {
     "name": "stdout",
     "output_type": "stream",
     "text": [
      "[8, 9, 6, 5, 4]\n",
      "8\n",
      "4\n",
      "5\n",
      "[9, 6, 5, 4]\n",
      "[8, 9, 6]\n",
      "[9, 6, 5]\n",
      "[8, 6, 4]\n",
      "[9]\n",
      "[4, 6]\n",
      "[4]\n"
     ]
    }
   ],
   "source": [
    "list=[8,9,6,5,4]\n",
    "print(list) #Access the entire list\n",
    "print(list[0]) #Access the first item list\n",
    "print(list[-1]) #Access the last item list\n",
    "print(list[-2]) #Access the last second item list\n",
    "print(list[1:]) #Access the items from second item to last in a forward way\n",
    "print(list[:-2]) #Access the items from starting till last third item (last second item is excluded)\n",
    "print(list[1:4])\n",
    "print(list[0::2])\n",
    "print(list[1:-3:1])\n",
    "print(list[-1:1:-2])\n",
    "print(list[-1::]) #prints the llast element"
   ]
  },
  {
   "cell_type": "code",
   "execution_count": 2,
   "metadata": {},
   "outputs": [
    {
     "name": "stdout",
     "output_type": "stream",
     "text": [
      "['gitam', 12, 11, 2000]\n",
      "['gitam', 12, 'Harini', 2000]\n"
     ]
    }
   ],
   "source": [
    "#To change specific item in the list\n",
    "list=[\"gitam\",12,11,2000]\n",
    "print(list)\n",
    "list[2]=\"Harini\"\n",
    "print(list)"
   ]
  },
  {
   "cell_type": "code",
   "execution_count": 3,
   "metadata": {},
   "outputs": [
    {
     "name": "stdout",
     "output_type": "stream",
     "text": [
      "['gitam', 12, 'Harini', 2000]\n",
      "['gitam', 12, 2000]\n",
      "<class 'list'>\n"
     ]
    }
   ],
   "source": [
    "#To delete specific item in the list\n",
    "print(list)\n",
    "del list[2]  #del is the keyword to delete the specific item\n",
    "print(list)\n",
    "del list\n",
    "print(list)"
   ]
  },
  {
   "cell_type": "code",
   "execution_count": 4,
   "metadata": {},
   "outputs": [
    {
     "name": "stdout",
     "output_type": "stream",
     "text": [
      "5\n",
      "[2, 4, 6, 8, 12, 2, 4, 6, 8, 12]\n",
      "5\n",
      "True\n",
      "False\n",
      "2 4 6 8 12 "
     ]
    }
   ],
   "source": [
    "#Basic list operations\n",
    "li1=[2,4,6,8,12]\n",
    "print(len(li1))\n",
    "print(li1*2) #Repeats the list for two times \n",
    "print(len(li1)) #the length of the list doesnt change even the list is repeated \n",
    "print(4 in li1)  #wheather the  item is presented in the list or not\n",
    "print(3 in li1)\n",
    "#Access the list items using iterations\n",
    "for i in range (len(li1)):\n",
    "    print(li1[i],end=\" \")\n"
   ]
  },
  {
   "cell_type": "code",
   "execution_count": 5,
   "metadata": {
    "scrolled": true
   },
   "outputs": [
    {
     "name": "stdout",
     "output_type": "stream",
     "text": [
      "12\n",
      "2\n",
      "32\n",
      "6.4\n",
      "6.0\n"
     ]
    }
   ],
   "source": [
    "#Functions of the list\n",
    "li1\n",
    "print(max(li1)) #max is used to print the maximum value item in the list\n",
    "print(min(li1))  #min is used to print the minimum value item in the list\n",
    "print(sum(li1))  #sum is used to print the total sum of the list\n",
    "print(sum(li1)/len(li1)) #to print thr average of the list\n",
    "print(sum(li1[1::2])/len(li1[1::2])) #average of all the alternate elements"
   ]
  },
  {
   "cell_type": "code",
   "execution_count": 27,
   "metadata": {},
   "outputs": [
    {
     "name": "stdout",
     "output_type": "stream",
     "text": [
      "[2, 4, 6, 8, 12, 1]\n",
      "[2, 4, 13, 6, 8, 12, 1]\n",
      "[2, 4, 13, 6, 8, 12, 1]\n",
      "[1, 2, 4, 6, 8, 12, 13]\n",
      "[1, 2, 4, 6, 8, 12]\n",
      "[1, 4, 6, 8, 12]\n",
      "[1, 4, 6, 8, 12, 3, 6, 9, 12, 18]\n",
      "[18, 12, 9, 6, 3, 12, 8, 6, 4, 1]\n",
      "[18, 9, 6, 3, 12, 8, 6, 4, 1]\n"
     ]
    }
   ],
   "source": [
    "li1=[2,4,6,8,12]\n",
    "li1.append(1) #Adds a new element at the end of the list\n",
    "print(li1)\n",
    "li1.insert(2,13) #adds an element at particular index\n",
    "print(li1)\n",
    "li1.count(4) #return the value how many times the element is repeated\n",
    "print(li1)\n",
    "li1.index(1) #returns the index of that item\n",
    "li1.sort() #Sorts the list in ascending order\n",
    "print(li1)\n",
    "li1.pop() #removes the last element\n",
    "print(li1)\n",
    "li1.pop(1) #removes the element at that index\n",
    "print(li1)\n",
    "li2=[3,6,9,12,18]\n",
    "li1.extend(li2) #merges the second list in 1st list\n",
    "print(li1)\n",
    "li1.reverse()  #reverses the list\n",
    "print(li1)\n",
    "li1.remove(12) #removes the element from list\n",
    "print(li1)"
   ]
  },
  {
   "cell_type": "code",
   "execution_count": 30,
   "metadata": {},
   "outputs": [
    {
     "data": {
      "text/plain": [
       "6"
      ]
     },
     "execution_count": 30,
     "metadata": {},
     "output_type": "execute_result"
    }
   ],
   "source": [
    "#function to find the second large element in the list\n",
    "def secondlarge(li):\n",
    "    li.sort() #sorts the list\n",
    "    return li[-2]     #returns the last second index from reverse\n",
    "def genericlarge(li,n):  #to print the nth large item\n",
    "    li.sort()\n",
    "    return li[-n]\n",
    "li=[1,19,6,2,8,18,3]     \n",
    "genericlarge(li,4)   #To print the 4th large item\n"
   ]
  },
  {
   "cell_type": "markdown",
   "metadata": {},
   "source": [
    "## Searching Algorithm\n",
    "### Linear search\n",
    "### Binary search"
   ]
  },
  {
   "cell_type": "markdown",
   "metadata": {},
   "source": [
    "## Linear search\n",
    "#### Linear search algorithm can be applied on duplicate and unique list\n",
    "#### Unique list: The all items of the list is appeared only one\n",
    "#### Duplicate list: The all items of the list is appeared more than one time\n",
    "#### The items of the test can be applied on sorted list or unsorted list"
   ]
  },
  {
   "cell_type": "code",
   "execution_count": 33,
   "metadata": {},
   "outputs": [
    {
     "name": "stdout",
     "output_type": "stream",
     "text": [
      "2\n",
      "-1\n"
     ]
    }
   ],
   "source": [
    "#Function to search data in Unique a list \n",
    "#if search is found return the index of that search, if search is not found return -1\n",
    "def linearsearch(li,taritem):\n",
    "    for i in range (len(li)):\n",
    "        if li[i]==taritem:\n",
    "            return i\n",
    "    return -1\n",
    "li=[1,6,36,12,4,7,3]  #this is a unique list \n",
    "print(linearsearch(li,36))\n",
    "print(linearsearch(li,22))"
   ]
  },
  {
   "cell_type": "code",
   "execution_count": 39,
   "metadata": {
    "scrolled": true
   },
   "outputs": [
    {
     "name": "stdout",
     "output_type": "stream",
     "text": [
      "2 4 6 7 "
     ]
    }
   ],
   "source": [
    "#Function to search data in a duplicate list\n",
    "def lineardup(li,srchitem):\n",
    "    for i in range (len(li)):\n",
    "        if li[i]==srchitem:\n",
    "            print(i,end=\" \")\n",
    "    return \n",
    "li=[1,5,3,4,3,6,3,3] #this is a duplicate list\n",
    "lineardup(li,3)"
   ]
  },
  {
   "cell_type": "code",
   "execution_count": 40,
   "metadata": {},
   "outputs": [
    {
     "name": "stdout",
     "output_type": "stream",
     "text": [
      "! !  ! ! ! !  ! ! ! ! !  ! ! ! ! ! ! ! !  "
     ]
    }
   ],
   "source": [
    "def search(li,elem):\n",
    "    for i in range (len(li)):\n",
    "        if li[i]==elem:\n",
    "            j=0\n",
    "            while j!=i+1:\n",
    "                print(\"!\",end=\" \")\n",
    "                j=j+1\n",
    "            print(end=\" \")\n",
    "    return\n",
    "li=[1,5,9,5,5,6,7,5,6]\n",
    "search(li,5)\n",
    "                "
   ]
  },
  {
   "cell_type": "code",
   "execution_count": 41,
   "metadata": {},
   "outputs": [
    {
     "data": {
      "text/plain": [
       "60"
      ]
     },
     "execution_count": 41,
     "metadata": {},
     "output_type": "execute_result"
    }
   ],
   "source": [
    "#A list is perfectly multiple of 3 and 5\n",
    "def mul(li):\n",
    "    sum=0\n",
    "    for i in range (len(li)):\n",
    "        if li[i]%3==0 and li[i]%5==0:\n",
    "            sum=sum+li[i]\n",
    "    return sum\n",
    "li=[12,2,45,9,18,15,36]\n",
    "mul(li)\n",
    "            "
   ]
  },
  {
   "cell_type": "code",
   "execution_count": 44,
   "metadata": {},
   "outputs": [
    {
     "name": "stdout",
     "output_type": "stream",
     "text": [
      "1 3 8 15 5 "
     ]
    }
   ],
   "source": [
    "#Function\n",
    "#input-List\n",
    "# Output- formatted output\n",
    "#[1,2,3,4,5]--[1,3,8,15,5]\n",
    "#first and last items are same\n",
    "#the middle items are a result of multiplication of previous and next\n",
    "def res(li):\n",
    "    for i in range (len(li)):\n",
    "        if i==0 or i==len(li)-1:\n",
    "            print(li[i],end=\" \")\n",
    "        else:\n",
    "            print(li[i-1]*li[i+1],end=\" \")\n",
    "    return\n",
    "li=[1,2,3,4,5]\n",
    "res(li)\n",
    "        \n",
    "        \n"
   ]
  },
  {
   "cell_type": "code",
   "execution_count": 47,
   "metadata": {},
   "outputs": [
    {
     "name": "stdout",
     "output_type": "stream",
     "text": [
      "1 9 19 22 "
     ]
    }
   ],
   "source": [
    "#Function\n",
    "#input -- list\n",
    "#output-- Formatted output\n",
    "#[1,6,9,4,16,19,22]--[1,9,19,22]\n",
    "#First and last items are same\n",
    "#if both side numbers are even print it\n",
    "def res(li):\n",
    "    for i in range(len(li)):\n",
    "        if i==0 or i==len(li)-1:\n",
    "            print(li[i],end=\" \")\n",
    "        elif li[i-1]%2==0 and li[i+1]%2==0:\n",
    "            print(li[i],end=\" \")\n",
    "    return\n",
    "li=[1,6,9,4,16,19,22]\n",
    "res(li)\n",
    "            \n"
   ]
  },
  {
   "cell_type": "code",
   "execution_count": 48,
   "metadata": {},
   "outputs": [
    {
     "data": {
      "text/plain": [
       "[1, 2, 3, 4, 5, 6]"
      ]
     },
     "execution_count": 48,
     "metadata": {},
     "output_type": "execute_result"
    }
   ],
   "source": [
    "#\"1 9 9 0\"=[1,9,9,0]\n",
    "def num(s):\n",
    "    li=s.split()\n",
    "    numberlist=[]\n",
    "    for i in li:\n",
    "        numberlist.append(int(i))\n",
    "    return numberlist\n",
    "s=\"1 2 3 4 5 6\"\n",
    "num(s)"
   ]
  },
  {
   "cell_type": "code",
   "execution_count": 49,
   "metadata": {},
   "outputs": [
    {
     "data": {
      "text/plain": [
       "[1, 9, 9, 0]"
      ]
     },
     "execution_count": 49,
     "metadata": {},
     "output_type": "execute_result"
    }
   ],
   "source": [
    "def num(n):\n",
    "    li=[]\n",
    "    while n!=0:\n",
    "        r=n%10\n",
    "        li.append(r)\n",
    "        n=n//10\n",
    "    li.reverse()\n",
    "    return li\n",
    "num(1990)\n",
    "    "
   ]
  },
  {
   "cell_type": "markdown",
   "metadata": {},
   "source": [
    "## sorting algorithms:\n",
    "### all the sorting algorithms makes the list into ascending order\n",
    "#### Bubblesort\n",
    "#### selection sort\n",
    "#### Insertion sort"
   ]
  },
  {
   "cell_type": "markdown",
   "metadata": {},
   "source": [
    "## Bubble sort\n",
    "### The algorithm compares the adj elements.if the first element is greater than second then it required to swap the elements"
   ]
  },
  {
   "cell_type": "code",
   "execution_count": 50,
   "metadata": {},
   "outputs": [
    {
     "data": {
      "text/plain": [
       "[1, 3, 6, 18, 19, 25]"
      ]
     },
     "execution_count": 50,
     "metadata": {},
     "output_type": "execute_result"
    }
   ],
   "source": [
    "# Function to represent the bubblesort\n",
    "def bubblesort(li):\n",
    "    for i in range(len(li)-1):\n",
    "        for j in range(len(li)-1):\n",
    "            if li[j]>li[j+1]:\n",
    "                li[j],li[j+1]=li[j+1],li[j]\n",
    "    return li\n",
    "li=[19,1,25,6,18,3]\n",
    "bubblesort(li)"
   ]
  },
  {
   "cell_type": "code",
   "execution_count": null,
   "metadata": {},
   "outputs": [],
   "source": []
  }
 ],
 "metadata": {
  "kernelspec": {
   "display_name": "Python 3",
   "language": "python",
   "name": "python3"
  },
  "language_info": {
   "codemirror_mode": {
    "name": "ipython",
    "version": 3
   },
   "file_extension": ".py",
   "mimetype": "text/x-python",
   "name": "python",
   "nbconvert_exporter": "python",
   "pygments_lexer": "ipython3",
   "version": "3.7.3"
  }
 },
 "nbformat": 4,
 "nbformat_minor": 2
}
